{
 "cells": [
  {
   "cell_type": "code",
   "execution_count": 1,
   "id": "569107bb-94e9-4638-9c6c-9145481395bd",
   "metadata": {},
   "outputs": [
    {
     "name": "stdout",
     "output_type": "stream",
     "text": [
      "Number of questions in train: 1295\n",
      "Number of questions in test: 358\n",
      "Number of questions in validation: 255\n"
     ]
    }
   ],
   "source": [
    "from datasets import load_dataset\n",
    "import pandas as pd\n",
    "\n",
    "subjqa = load_dataset(\"subjqa\", name=\"electronics\")\n",
    "dfs = {split: dset.to_pandas() for split, dset in subjqa.flatten().items()}\n",
    "\n",
    "for split, df in dfs.items():\n",
    "    print(f\"Number of questions in {split}: {df['id'].nunique()}\")"
   ]
  },
  {
   "cell_type": "markdown",
   "id": "07e8d287-17af-41c5-a825-2b0e10e0a645",
   "metadata": {},
   "source": [
    "### Initializing a document store Using Docker"
   ]
  },
  {
   "cell_type": "code",
   "execution_count": 2,
   "id": "e50aa39a-38bd-4954-a64e-da02611ad1f9",
   "metadata": {},
   "outputs": [],
   "source": [
    "# from haystack.utils import launch_es\n",
    "\n",
    "# launch_es()"
   ]
  },
  {
   "cell_type": "code",
   "execution_count": 3,
   "id": "0bf2c2c7-7808-454d-a0ee-fa3bfe64cbf3",
   "metadata": {},
   "outputs": [],
   "source": [
    "# !curl -X GET \"localhost:9200/?pretty\""
   ]
  },
  {
   "cell_type": "code",
   "execution_count": 4,
   "id": "6f718331-e694-4009-817d-5fc3cc1a00d7",
   "metadata": {},
   "outputs": [
    {
     "name": "stdout",
     "output_type": "stream",
     "text": [
      "zsh:1: command not found: conda\n",
      "zsh:1: command not found: conda\n",
      "Requirement already satisfied: farm-haystack in /Users/macbook/Downloads/jupyter_env/lib/python3.12/site-packages (1.26.2)\n",
      "Requirement already satisfied: boilerpy3 in /Users/macbook/Downloads/jupyter_env/lib/python3.12/site-packages (from farm-haystack) (1.0.7)\n",
      "Requirement already satisfied: events in /Users/macbook/Downloads/jupyter_env/lib/python3.12/site-packages (from farm-haystack) (0.5)\n",
      "Requirement already satisfied: httpx in /Users/macbook/Downloads/jupyter_env/lib/python3.12/site-packages (from farm-haystack) (0.27.0)\n",
      "Requirement already satisfied: jsonschema in /Users/macbook/Downloads/jupyter_env/lib/python3.12/site-packages (from farm-haystack) (4.22.0)\n",
      "Requirement already satisfied: lazy-imports==0.3.1 in /Users/macbook/Downloads/jupyter_env/lib/python3.12/site-packages (from farm-haystack) (0.3.1)\n",
      "Requirement already satisfied: more-itertools in /Users/macbook/Downloads/jupyter_env/lib/python3.12/site-packages (from farm-haystack) (10.3.0)\n",
      "Requirement already satisfied: networkx in /Users/macbook/Downloads/jupyter_env/lib/python3.12/site-packages (from farm-haystack) (3.3)\n",
      "Requirement already satisfied: pandas in /Users/macbook/Downloads/jupyter_env/lib/python3.12/site-packages (from farm-haystack) (2.2.2)\n",
      "Requirement already satisfied: pillow in /Users/macbook/Downloads/jupyter_env/lib/python3.12/site-packages (from farm-haystack) (10.3.0)\n",
      "Requirement already satisfied: platformdirs in /Users/macbook/Downloads/jupyter_env/lib/python3.12/site-packages (from farm-haystack) (4.2.2)\n",
      "Requirement already satisfied: posthog in /Users/macbook/Downloads/jupyter_env/lib/python3.12/site-packages (from farm-haystack) (3.5.0)\n",
      "Requirement already satisfied: prompthub-py==4.0.0 in /Users/macbook/Downloads/jupyter_env/lib/python3.12/site-packages (from farm-haystack) (4.0.0)\n",
      "Requirement already satisfied: pydantic<2 in /Users/macbook/Downloads/jupyter_env/lib/python3.12/site-packages (from farm-haystack) (1.10.17)\n",
      "Requirement already satisfied: quantulum3 in /Users/macbook/Downloads/jupyter_env/lib/python3.12/site-packages (from farm-haystack) (0.9.2)\n",
      "Requirement already satisfied: rank-bm25 in /Users/macbook/Downloads/jupyter_env/lib/python3.12/site-packages (from farm-haystack) (0.2.2)\n",
      "Requirement already satisfied: requests in /Users/macbook/Downloads/jupyter_env/lib/python3.12/site-packages (from farm-haystack) (2.32.3)\n",
      "Requirement already satisfied: requests-cache<1.0.0 in /Users/macbook/Downloads/jupyter_env/lib/python3.12/site-packages (from farm-haystack) (0.9.8)\n",
      "Requirement already satisfied: scikit-learn>=1.3.0 in /Users/macbook/Downloads/jupyter_env/lib/python3.12/site-packages (from farm-haystack) (1.5.0)\n",
      "Requirement already satisfied: sseclient-py in /Users/macbook/Downloads/jupyter_env/lib/python3.12/site-packages (from farm-haystack) (1.8.0)\n",
      "Requirement already satisfied: tenacity in /Users/macbook/Downloads/jupyter_env/lib/python3.12/site-packages (from farm-haystack) (8.4.2)\n",
      "Requirement already satisfied: tiktoken>=0.5.1 in /Users/macbook/Downloads/jupyter_env/lib/python3.12/site-packages (from farm-haystack) (0.7.0)\n",
      "Requirement already satisfied: tqdm in /Users/macbook/Downloads/jupyter_env/lib/python3.12/site-packages (from farm-haystack) (4.66.4)\n",
      "Requirement already satisfied: transformers==4.39.3 in /Users/macbook/Downloads/jupyter_env/lib/python3.12/site-packages (from farm-haystack) (4.39.3)\n",
      "Requirement already satisfied: pyyaml<7.0,>=6.0 in /Users/macbook/Downloads/jupyter_env/lib/python3.12/site-packages (from prompthub-py==4.0.0->farm-haystack) (6.0.1)\n",
      "Requirement already satisfied: filelock in /Users/macbook/Downloads/jupyter_env/lib/python3.12/site-packages (from transformers==4.39.3->farm-haystack) (3.15.3)\n",
      "Requirement already satisfied: huggingface-hub<1.0,>=0.19.3 in /Users/macbook/Downloads/jupyter_env/lib/python3.12/site-packages (from transformers==4.39.3->farm-haystack) (0.23.4)\n",
      "Requirement already satisfied: numpy>=1.17 in /Users/macbook/Downloads/jupyter_env/lib/python3.12/site-packages (from transformers==4.39.3->farm-haystack) (1.26.4)\n",
      "Requirement already satisfied: packaging>=20.0 in /Users/macbook/Downloads/jupyter_env/lib/python3.12/site-packages (from transformers==4.39.3->farm-haystack) (24.1)\n",
      "Requirement already satisfied: regex!=2019.12.17 in /Users/macbook/Downloads/jupyter_env/lib/python3.12/site-packages (from transformers==4.39.3->farm-haystack) (2024.5.15)\n",
      "Requirement already satisfied: tokenizers<0.19,>=0.14 in /Users/macbook/Downloads/jupyter_env/lib/python3.12/site-packages (from transformers==4.39.3->farm-haystack) (0.15.2)\n",
      "Requirement already satisfied: safetensors>=0.4.1 in /Users/macbook/Downloads/jupyter_env/lib/python3.12/site-packages (from transformers==4.39.3->farm-haystack) (0.4.3)\n",
      "Requirement already satisfied: typing-extensions>=4.2.0 in /Users/macbook/Downloads/jupyter_env/lib/python3.12/site-packages (from pydantic<2->farm-haystack) (4.12.2)\n",
      "Requirement already satisfied: charset-normalizer<4,>=2 in /Users/macbook/Downloads/jupyter_env/lib/python3.12/site-packages (from requests->farm-haystack) (3.3.2)\n",
      "Requirement already satisfied: idna<4,>=2.5 in /Users/macbook/Downloads/jupyter_env/lib/python3.12/site-packages (from requests->farm-haystack) (3.7)\n",
      "Requirement already satisfied: urllib3<3,>=1.21.1 in /Users/macbook/Downloads/jupyter_env/lib/python3.12/site-packages (from requests->farm-haystack) (1.26.19)\n",
      "Requirement already satisfied: certifi>=2017.4.17 in /Users/macbook/Downloads/jupyter_env/lib/python3.12/site-packages (from requests->farm-haystack) (2024.6.2)\n",
      "Requirement already satisfied: appdirs>=1.4.4 in /Users/macbook/Downloads/jupyter_env/lib/python3.12/site-packages (from requests-cache<1.0.0->farm-haystack) (1.4.4)\n",
      "Requirement already satisfied: attrs>=21.2 in /Users/macbook/Downloads/jupyter_env/lib/python3.12/site-packages (from requests-cache<1.0.0->farm-haystack) (23.2.0)\n",
      "Requirement already satisfied: cattrs>=22.2 in /Users/macbook/Downloads/jupyter_env/lib/python3.12/site-packages (from requests-cache<1.0.0->farm-haystack) (23.2.3)\n",
      "Requirement already satisfied: url-normalize>=1.4 in /Users/macbook/Downloads/jupyter_env/lib/python3.12/site-packages (from requests-cache<1.0.0->farm-haystack) (1.4.3)\n",
      "Requirement already satisfied: scipy>=1.6.0 in /Users/macbook/Downloads/jupyter_env/lib/python3.12/site-packages (from scikit-learn>=1.3.0->farm-haystack) (1.13.1)\n",
      "Requirement already satisfied: joblib>=1.2.0 in /Users/macbook/Downloads/jupyter_env/lib/python3.12/site-packages (from scikit-learn>=1.3.0->farm-haystack) (1.4.2)\n",
      "Requirement already satisfied: threadpoolctl>=3.1.0 in /Users/macbook/Downloads/jupyter_env/lib/python3.12/site-packages (from scikit-learn>=1.3.0->farm-haystack) (3.5.0)\n",
      "Requirement already satisfied: anyio in /Users/macbook/Downloads/jupyter_env/lib/python3.12/site-packages (from httpx->farm-haystack) (4.4.0)\n",
      "Requirement already satisfied: httpcore==1.* in /Users/macbook/Downloads/jupyter_env/lib/python3.12/site-packages (from httpx->farm-haystack) (1.0.5)\n",
      "Requirement already satisfied: sniffio in /Users/macbook/Downloads/jupyter_env/lib/python3.12/site-packages (from httpx->farm-haystack) (1.3.1)\n",
      "Requirement already satisfied: h11<0.15,>=0.13 in /Users/macbook/Downloads/jupyter_env/lib/python3.12/site-packages (from httpcore==1.*->httpx->farm-haystack) (0.14.0)\n",
      "Requirement already satisfied: jsonschema-specifications>=2023.03.6 in /Users/macbook/Downloads/jupyter_env/lib/python3.12/site-packages (from jsonschema->farm-haystack) (2023.12.1)\n",
      "Requirement already satisfied: referencing>=0.28.4 in /Users/macbook/Downloads/jupyter_env/lib/python3.12/site-packages (from jsonschema->farm-haystack) (0.35.1)\n",
      "Requirement already satisfied: rpds-py>=0.7.1 in /Users/macbook/Downloads/jupyter_env/lib/python3.12/site-packages (from jsonschema->farm-haystack) (0.18.1)\n",
      "Requirement already satisfied: python-dateutil>=2.8.2 in /Users/macbook/Downloads/jupyter_env/lib/python3.12/site-packages (from pandas->farm-haystack) (2.9.0.post0)\n",
      "Requirement already satisfied: pytz>=2020.1 in /Users/macbook/Downloads/jupyter_env/lib/python3.12/site-packages (from pandas->farm-haystack) (2024.1)\n",
      "Requirement already satisfied: tzdata>=2022.7 in /Users/macbook/Downloads/jupyter_env/lib/python3.12/site-packages (from pandas->farm-haystack) (2024.1)\n",
      "Requirement already satisfied: six>=1.5 in /Users/macbook/Downloads/jupyter_env/lib/python3.12/site-packages (from posthog->farm-haystack) (1.16.0)\n",
      "Requirement already satisfied: monotonic>=1.5 in /Users/macbook/Downloads/jupyter_env/lib/python3.12/site-packages (from posthog->farm-haystack) (1.6)\n",
      "Requirement already satisfied: backoff>=1.10.0 in /Users/macbook/Downloads/jupyter_env/lib/python3.12/site-packages (from posthog->farm-haystack) (2.2.1)\n",
      "Requirement already satisfied: inflect in /Users/macbook/Downloads/jupyter_env/lib/python3.12/site-packages (from quantulum3->farm-haystack) (7.3.1)\n",
      "Requirement already satisfied: num2words in /Users/macbook/Downloads/jupyter_env/lib/python3.12/site-packages (from quantulum3->farm-haystack) (0.5.13)\n",
      "Requirement already satisfied: fsspec>=2023.5.0 in /Users/macbook/Downloads/jupyter_env/lib/python3.12/site-packages (from huggingface-hub<1.0,>=0.19.3->transformers==4.39.3->farm-haystack) (2024.5.0)\n",
      "Requirement already satisfied: typeguard>=4.0.1 in /Users/macbook/Downloads/jupyter_env/lib/python3.12/site-packages (from inflect->quantulum3->farm-haystack) (4.3.0)\n",
      "Requirement already satisfied: docopt>=0.6.2 in /Users/macbook/Downloads/jupyter_env/lib/python3.12/site-packages (from num2words->quantulum3->farm-haystack) (0.6.2)\n"
     ]
    }
   ],
   "source": [
    "!conda create -n haystack python=3.7\n",
    "!conda activate haystack\n",
    "!pip install farm-haystack"
   ]
  },
  {
   "cell_type": "code",
   "execution_count": 5,
   "id": "c4f0ba70-e579-482e-b7a2-5f71b8f1b8ac",
   "metadata": {},
   "outputs": [
    {
     "name": "stdout",
     "output_type": "stream",
     "text": [
      "7.9.2: Pulling from elasticsearch/elasticsearch\n",
      "Digest: sha256:2be3302537236874fdeca184c78a49aed17d5aca0f8fc3f6192a80e93e817cb4\n",
      "Status: Image is up to date for docker.elastic.co/elasticsearch/elasticsearch:7.9.2\n",
      "docker.elastic.co/elasticsearch/elasticsearch:7.9.2\n",
      "\u001b[1m\n",
      "What's next:\u001b[0m\n",
      "    View a summary of image vulnerabilities and recommendations → \u001b[36mdocker scout quickview docker.elastic.co/elasticsearch/elasticsearch:7.9.2\u001b[0m\n",
      "d9544cd91c0539dc3b6282499b340f37173da6e8831aa1dd70bc02168c3af561\n",
      "docker: Error response from daemon: driver failed programming external connectivity on endpoint objective_hertz (7be12c8f4727fb4676bacb6efcdd431a3440bdddefd2444df23f2874643d47f7): Bind for 0.0.0.0:9200 failed: port is already allocated.\n"
     ]
    }
   ],
   "source": [
    "!docker pull docker.elastic.co/elasticsearch/elasticsearch:7.9.2\n",
    "!docker run -d -p 9200:9200 -e \"discovery.type=single-node\" elasticsearch:7.9.2"
   ]
  },
  {
   "cell_type": "code",
   "execution_count": 6,
   "id": "6a822c44-4988-411f-ba0b-1692219ce24a",
   "metadata": {},
   "outputs": [
    {
     "name": "stderr",
     "output_type": "stream",
     "text": [
      "/Users/macbook/Downloads/jupyter_env/lib/python3.12/site-packages/elasticsearch/connection/base.py:200: ElasticsearchWarning: Elasticsearch built-in security features are not enabled. Without authentication, your cluster could be accessible to anyone. See https://www.elastic.co/guide/en/elasticsearch/reference/7.17/security-minimal-setup.html to enable security.\n",
      "  warnings.warn(message, category=ElasticsearchWarning)\n"
     ]
    }
   ],
   "source": [
    "from haystack.document_stores.elasticsearch import ElasticsearchDocumentStore\n",
    "\n",
    "# return the document embedding for later use with dense retriever \n",
    "document_store = ElasticsearchDocumentStore(return_embedding=True)"
   ]
  },
  {
   "cell_type": "code",
   "execution_count": 7,
   "id": "0f323dcf-54ab-4db7-9117-4fac03b89547",
   "metadata": {},
   "outputs": [
    {
     "name": "stdout",
     "output_type": "stream",
     "text": [
      "Loaded 1615 documents\n"
     ]
    }
   ],
   "source": [
    "for split, df in dfs.items():\n",
    "    docs = [\n",
    "        {\"content\": row[\"context\"], \"id\": row[\"review_id\"],\n",
    "        \"meta\":{\"item_id\": row[\"title\"], \"question_id\": row[\"id\"], \"split\": split}} \n",
    "        for _,row in df.drop_duplicates(subset=\"context\").iterrows()\n",
    "    ]\n",
    "    document_store.write_documents(documents=docs, index=\"document\")\n",
    "    \n",
    "print(f\"Loaded {document_store.get_document_count()} documents\")"
   ]
  },
  {
   "cell_type": "markdown",
   "id": "0e702d10-5d94-47cc-bcf9-526b2e053da1",
   "metadata": {},
   "source": [
    "### Initializing a Retriever"
   ]
  },
  {
   "cell_type": "code",
   "execution_count": 8,
   "id": "287f0362-9bb1-492b-b077-26ecd98d51b3",
   "metadata": {},
   "outputs": [
    {
     "ename": "ModuleNotFoundError",
     "evalue": "No module named 'haystack.retriever'",
     "output_type": "error",
     "traceback": [
      "\u001b[0;31m---------------------------------------------------------------------------\u001b[0m",
      "\u001b[0;31mModuleNotFoundError\u001b[0m                       Traceback (most recent call last)",
      "Cell \u001b[0;32mIn[8], line 1\u001b[0m\n\u001b[0;32m----> 1\u001b[0m \u001b[38;5;28;01mfrom\u001b[39;00m \u001b[38;5;21;01mhaystack\u001b[39;00m\u001b[38;5;21;01m.\u001b[39;00m\u001b[38;5;21;01mretriever\u001b[39;00m\u001b[38;5;21;01m.\u001b[39;00m\u001b[38;5;21;01msparse\u001b[39;00m \u001b[38;5;28;01mimport\u001b[39;00m ElasticSearchRetriever\n\u001b[1;32m      3\u001b[0m es_retriever \u001b[38;5;241m=\u001b[39m ElasticSearchRetriever(document_store\u001b[38;5;241m=\u001b[39mdocument_store)\n",
      "\u001b[0;31mModuleNotFoundError\u001b[0m: No module named 'haystack.retriever'"
     ]
    }
   ],
   "source": [
    "from haystack.retriever.sparse import ElasticSearchRetriever\n",
    "\n",
    "es_retriever = ElasticSearchRetriever(document_store=document_store)"
   ]
  },
  {
   "cell_type": "code",
   "execution_count": null,
   "id": "639cdd92-7170-4fcc-8354-98d2de5cbaaa",
   "metadata": {},
   "outputs": [],
   "source": []
  }
 ],
 "metadata": {
  "kernelspec": {
   "display_name": "Python 3 (ipykernel)",
   "language": "python",
   "name": "python3"
  },
  "language_info": {
   "codemirror_mode": {
    "name": "ipython",
    "version": 3
   },
   "file_extension": ".py",
   "mimetype": "text/x-python",
   "name": "python",
   "nbconvert_exporter": "python",
   "pygments_lexer": "ipython3",
   "version": "3.12.4"
  }
 },
 "nbformat": 4,
 "nbformat_minor": 5
}
