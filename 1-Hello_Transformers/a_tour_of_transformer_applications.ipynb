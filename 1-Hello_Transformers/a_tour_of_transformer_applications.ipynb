{
 "cells": [
  {
   "cell_type": "code",
   "execution_count": 1,
   "id": "b45df41f-fdc8-48a4-b073-0dde9ffeaab1",
   "metadata": {},
   "outputs": [],
   "source": [
    "text = \"\"\"The Apple Wireless Earbuds offer excellent sound quality with deep bass and clear highs. They are comfortable for long use, \n",
    "and the battery life lasts a full day. Pairing is easy, and the touch controls are convenient. However, I've noticed occasional brief \n",
    "disconnects with the left earbud. The compact charging case is a plus. Overall, for the price, these earbuds are a great value. Fix the minor connectivity issue, \n",
    "and they'd be perfect. Highly recommend for those seeking budget-friendly, quality earbuds.\"\"\""
   ]
  },
  {
   "cell_type": "markdown",
   "id": "7db6b11f-2f0f-4b52-a14a-a5dd2b11fc0c",
   "metadata": {},
   "source": [
    "### Text Classification"
   ]
  },
  {
   "cell_type": "code",
   "execution_count": 2,
   "id": "c400b3fd-b54b-4c67-8350-fa03742f0545",
   "metadata": {},
   "outputs": [
    {
     "name": "stderr",
     "output_type": "stream",
     "text": [
      "No model was supplied, defaulted to distilbert/distilbert-base-uncased-finetuned-sst-2-english and revision af0f99b (https://huggingface.co/distilbert/distilbert-base-uncased-finetuned-sst-2-english).\n",
      "Using a pipeline without specifying a model name and revision in production is not recommended.\n",
      "/Users/macbook/Downloads/jupyter_env/lib/python3.12/site-packages/huggingface_hub/file_download.py:1132: FutureWarning: `resume_download` is deprecated and will be removed in version 1.0.0. Downloads always resume when possible. If you want to force a new download, use `force_download=True`.\n",
      "  warnings.warn(\n"
     ]
    }
   ],
   "source": [
    "from transformers import pipeline\n",
    "\n",
    "clf = pipeline(\"text-classification\")"
   ]
  },
  {
   "cell_type": "code",
   "execution_count": 3,
   "id": "c11e372f-cf3e-48bd-81ea-aec4e57032a2",
   "metadata": {},
   "outputs": [
    {
     "data": {
      "text/html": [
       "<div>\n",
       "<style scoped>\n",
       "    .dataframe tbody tr th:only-of-type {\n",
       "        vertical-align: middle;\n",
       "    }\n",
       "\n",
       "    .dataframe tbody tr th {\n",
       "        vertical-align: top;\n",
       "    }\n",
       "\n",
       "    .dataframe thead th {\n",
       "        text-align: right;\n",
       "    }\n",
       "</style>\n",
       "<table border=\"1\" class=\"dataframe\">\n",
       "  <thead>\n",
       "    <tr style=\"text-align: right;\">\n",
       "      <th></th>\n",
       "      <th>label</th>\n",
       "      <th>score</th>\n",
       "    </tr>\n",
       "  </thead>\n",
       "  <tbody>\n",
       "    <tr>\n",
       "      <th>0</th>\n",
       "      <td>POSITIVE</td>\n",
       "      <td>0.999074</td>\n",
       "    </tr>\n",
       "  </tbody>\n",
       "</table>\n",
       "</div>"
      ],
      "text/plain": [
       "      label     score\n",
       "0  POSITIVE  0.999074"
      ]
     },
     "execution_count": 3,
     "metadata": {},
     "output_type": "execute_result"
    }
   ],
   "source": [
    "import pandas as pd\n",
    "\n",
    "outputs = clf(text)\n",
    "pd.DataFrame(outputs)"
   ]
  },
  {
   "cell_type": "markdown",
   "id": "50fe5200-b605-44f3-90a8-6e0655b933f0",
   "metadata": {},
   "source": [
    "### Name Entity Recongnition"
   ]
  },
  {
   "cell_type": "code",
   "execution_count": 4,
   "id": "af1bd049-634c-4180-8568-c8161cd535fe",
   "metadata": {},
   "outputs": [
    {
     "name": "stderr",
     "output_type": "stream",
     "text": [
      "No model was supplied, defaulted to dbmdz/bert-large-cased-finetuned-conll03-english and revision f2482bf (https://huggingface.co/dbmdz/bert-large-cased-finetuned-conll03-english).\n",
      "Using a pipeline without specifying a model name and revision in production is not recommended.\n",
      "/Users/macbook/Downloads/jupyter_env/lib/python3.12/site-packages/huggingface_hub/file_download.py:1132: FutureWarning: `resume_download` is deprecated and will be removed in version 1.0.0. Downloads always resume when possible. If you want to force a new download, use `force_download=True`.\n",
      "  warnings.warn(\n",
      "Some weights of the model checkpoint at dbmdz/bert-large-cased-finetuned-conll03-english were not used when initializing BertForTokenClassification: ['bert.pooler.dense.bias', 'bert.pooler.dense.weight']\n",
      "- This IS expected if you are initializing BertForTokenClassification from the checkpoint of a model trained on another task or with another architecture (e.g. initializing a BertForSequenceClassification model from a BertForPreTraining model).\n",
      "- This IS NOT expected if you are initializing BertForTokenClassification from the checkpoint of a model that you expect to be exactly identical (initializing a BertForSequenceClassification model from a BertForSequenceClassification model).\n"
     ]
    },
    {
     "data": {
      "text/html": [
       "<div>\n",
       "<style scoped>\n",
       "    .dataframe tbody tr th:only-of-type {\n",
       "        vertical-align: middle;\n",
       "    }\n",
       "\n",
       "    .dataframe tbody tr th {\n",
       "        vertical-align: top;\n",
       "    }\n",
       "\n",
       "    .dataframe thead th {\n",
       "        text-align: right;\n",
       "    }\n",
       "</style>\n",
       "<table border=\"1\" class=\"dataframe\">\n",
       "  <thead>\n",
       "    <tr style=\"text-align: right;\">\n",
       "      <th></th>\n",
       "      <th>entity_group</th>\n",
       "      <th>score</th>\n",
       "      <th>word</th>\n",
       "      <th>start</th>\n",
       "      <th>end</th>\n",
       "    </tr>\n",
       "  </thead>\n",
       "  <tbody>\n",
       "    <tr>\n",
       "      <th>0</th>\n",
       "      <td>ORG</td>\n",
       "      <td>0.544076</td>\n",
       "      <td>Apple Wireless</td>\n",
       "      <td>4</td>\n",
       "      <td>18</td>\n",
       "    </tr>\n",
       "    <tr>\n",
       "      <th>1</th>\n",
       "      <td>MISC</td>\n",
       "      <td>0.960923</td>\n",
       "      <td>E</td>\n",
       "      <td>19</td>\n",
       "      <td>20</td>\n",
       "    </tr>\n",
       "    <tr>\n",
       "      <th>2</th>\n",
       "      <td>MISC</td>\n",
       "      <td>0.665633</td>\n",
       "      <td>##ds</td>\n",
       "      <td>24</td>\n",
       "      <td>26</td>\n",
       "    </tr>\n",
       "  </tbody>\n",
       "</table>\n",
       "</div>"
      ],
      "text/plain": [
       "  entity_group     score            word  start  end\n",
       "0          ORG  0.544076  Apple Wireless      4   18\n",
       "1         MISC  0.960923               E     19   20\n",
       "2         MISC  0.665633            ##ds     24   26"
      ]
     },
     "execution_count": 4,
     "metadata": {},
     "output_type": "execute_result"
    }
   ],
   "source": [
    "ner_tagger = pipeline(\"ner\", aggregation_strategy=\"simple\")\n",
    "outputs = ner_tagger(text)\n",
    "pd.DataFrame(outputs)"
   ]
  },
  {
   "cell_type": "markdown",
   "id": "921106a4-c31c-4b9a-9d88-2de9f2e8693e",
   "metadata": {},
   "source": [
    "### Question Answering"
   ]
  },
  {
   "cell_type": "code",
   "execution_count": 5,
   "id": "ee818cf7-c14e-43a1-ab85-2f92bc4ffd5a",
   "metadata": {},
   "outputs": [
    {
     "name": "stderr",
     "output_type": "stream",
     "text": [
      "No model was supplied, defaulted to distilbert/distilbert-base-cased-distilled-squad and revision 626af31 (https://huggingface.co/distilbert/distilbert-base-cased-distilled-squad).\n",
      "Using a pipeline without specifying a model name and revision in production is not recommended.\n",
      "/Users/macbook/Downloads/jupyter_env/lib/python3.12/site-packages/huggingface_hub/file_download.py:1132: FutureWarning: `resume_download` is deprecated and will be removed in version 1.0.0. Downloads always resume when possible. If you want to force a new download, use `force_download=True`.\n",
      "  warnings.warn(\n"
     ]
    },
    {
     "data": {
      "text/html": [
       "<div>\n",
       "<style scoped>\n",
       "    .dataframe tbody tr th:only-of-type {\n",
       "        vertical-align: middle;\n",
       "    }\n",
       "\n",
       "    .dataframe tbody tr th {\n",
       "        vertical-align: top;\n",
       "    }\n",
       "\n",
       "    .dataframe thead th {\n",
       "        text-align: right;\n",
       "    }\n",
       "</style>\n",
       "<table border=\"1\" class=\"dataframe\">\n",
       "  <thead>\n",
       "    <tr style=\"text-align: right;\">\n",
       "      <th></th>\n",
       "      <th>score</th>\n",
       "      <th>start</th>\n",
       "      <th>end</th>\n",
       "      <th>answer</th>\n",
       "    </tr>\n",
       "  </thead>\n",
       "  <tbody>\n",
       "    <tr>\n",
       "      <th>0</th>\n",
       "      <td>0.659791</td>\n",
       "      <td>481</td>\n",
       "      <td>513</td>\n",
       "      <td>budget-friendly, quality earbuds</td>\n",
       "    </tr>\n",
       "  </tbody>\n",
       "</table>\n",
       "</div>"
      ],
      "text/plain": [
       "      score  start  end                            answer\n",
       "0  0.659791    481  513  budget-friendly, quality earbuds"
      ]
     },
     "execution_count": 5,
     "metadata": {},
     "output_type": "execute_result"
    }
   ],
   "source": [
    "reader = pipeline(\"question-answering\")\n",
    "question = \"What does the customer want\"\n",
    "\n",
    "outputs = reader(question=question, context=text)\n",
    "pd.DataFrame([outputs])"
   ]
  },
  {
   "cell_type": "markdown",
   "id": "fe1659e9-33a7-4faf-aaa8-7996a6eae061",
   "metadata": {},
   "source": [
    "### Summerization"
   ]
  },
  {
   "cell_type": "code",
   "execution_count": 6,
   "id": "86754e43-b6d5-4dd2-a984-f60e9a7f961c",
   "metadata": {},
   "outputs": [],
   "source": [
    "text = \"\"\"Greetings, I'm Mirza, an undergraduate student pursuing a Bachelor's in Computer Science and Engineering (BSCSE) \n",
    "at United International University (UIU). As an aspiring professional in the world of technology, I am dedicated to expanding my knowledge \n",
    "and skills in the dynamic field of computer science.I'm passionate about Machine Learing, Data Science and all things related to it. \n",
    "I love diving into data, extracting valuable insights, and creating data-driven solutions to real-world problems. If you share this passion \n",
    "or have an exciting Data Science project in mind, I'd love to collaborate with you!\"\"\""
   ]
  },
  {
   "cell_type": "code",
   "execution_count": 7,
   "id": "77c3c1d4-ab43-42c3-a54e-aaab55d3294e",
   "metadata": {},
   "outputs": [
    {
     "name": "stderr",
     "output_type": "stream",
     "text": [
      "No model was supplied, defaulted to sshleifer/distilbart-cnn-12-6 and revision a4f8f3e (https://huggingface.co/sshleifer/distilbart-cnn-12-6).\n",
      "Using a pipeline without specifying a model name and revision in production is not recommended.\n",
      "/Users/macbook/Downloads/jupyter_env/lib/python3.12/site-packages/huggingface_hub/file_download.py:1132: FutureWarning: `resume_download` is deprecated and will be removed in version 1.0.0. Downloads always resume when possible. If you want to force a new download, use `force_download=True`.\n",
      "  warnings.warn(\n",
      "Your min_length=56 must be inferior than your max_length=45.\n",
      "/Users/macbook/Downloads/jupyter_env/lib/python3.12/site-packages/transformers/generation/utils.py:1192: UserWarning: Unfeasible length constraints: `min_length` (56) is larger than the maximum possible length (45). Generation will stop at the defined maximum length. You should decrease the minimum length and/or increase the maximum length.\n",
      "  warnings.warn(\n"
     ]
    },
    {
     "name": "stdout",
     "output_type": "stream",
     "text": [
      " Mirza is an aspiring professional in the world of technology. He is passionate about Machine Learing, Data Science and all things related to it. If you share this passion, I'd love to collaborate with you\n"
     ]
    }
   ],
   "source": [
    "summarizer = pipeline(\"summarization\")\n",
    "outputs = summarizer(text, max_length=45, clean_up_tokenization_spaces=True)\n",
    "print(outputs[0]['summary_text'])"
   ]
  },
  {
   "cell_type": "markdown",
   "id": "41c9fe40-8ddb-4af9-8232-978d22c397eb",
   "metadata": {},
   "source": [
    "### Translation: English to German"
   ]
  },
  {
   "cell_type": "code",
   "execution_count": 8,
   "id": "40effa12-e332-419d-a889-acd89cfcd1dc",
   "metadata": {},
   "outputs": [
    {
     "name": "stdout",
     "output_type": "stream",
     "text": [
      "Requirement already satisfied: sentencepiece in /Users/macbook/Downloads/jupyter_env/lib/python3.12/site-packages (0.2.0)\n"
     ]
    }
   ],
   "source": [
    "!pip install sentencepiece"
   ]
  },
  {
   "cell_type": "code",
   "execution_count": 9,
   "id": "f01620a5-7c30-4bf9-b911-4ee69ea880d0",
   "metadata": {},
   "outputs": [
    {
     "name": "stdout",
     "output_type": "stream",
     "text": [
      "Requirement already satisfied: sacremoses in /Users/macbook/Downloads/jupyter_env/lib/python3.12/site-packages (0.1.1)\n",
      "Requirement already satisfied: regex in /Users/macbook/Downloads/jupyter_env/lib/python3.12/site-packages (from sacremoses) (2024.5.15)\n",
      "Requirement already satisfied: click in /Users/macbook/Downloads/jupyter_env/lib/python3.12/site-packages (from sacremoses) (8.1.7)\n",
      "Requirement already satisfied: joblib in /Users/macbook/Downloads/jupyter_env/lib/python3.12/site-packages (from sacremoses) (1.4.2)\n",
      "Requirement already satisfied: tqdm in /Users/macbook/Downloads/jupyter_env/lib/python3.12/site-packages (from sacremoses) (4.66.4)\n"
     ]
    }
   ],
   "source": [
    "!pip install sacremoses"
   ]
  },
  {
   "cell_type": "code",
   "execution_count": 10,
   "id": "5f84d3a5-3efa-4374-9306-f37836470bdd",
   "metadata": {},
   "outputs": [
    {
     "name": "stdout",
     "output_type": "stream",
     "text": [
      "Grüße, ich bin Mirza, ein Student, der einen Bachelor in Informatik und Ingenieurwissenschaften (BSCSE) an der United International University (UIU) verfolgt.Als aufstrebender Profi in der Welt der Technologie, bin ich bestrebt, mein Wissen und Fähigkeiten im dynamischen Bereich der Informatik zu erweitern.Ich bin leidenschaftlich für Machine Learing, Data Science und alle damit verbundenen Dinge. Ich liebe es, in Daten einzutauchen, wertvolle Erkenntnisse zu gewinnen und datengetriebene Lösungen für reale Probleme zu schaffen. Wenn Sie diese Leidenschaft teilen oder ein spannendes Data Science-Projekt im Sinn haben, würde ich gerne mit Ihnen zusammenarbeiten!\n"
     ]
    }
   ],
   "source": [
    "translator = pipeline(\"translation_en_to_de\", model=\"Helsinki-NLP/opus-mt-en-de\")\n",
    "outputs = translator(text, clean_up_tokenization_spaces=True, min_length=100)\n",
    "print(outputs[0][\"translation_text\"])"
   ]
  },
  {
   "cell_type": "markdown",
   "id": "57401e76-a495-407d-a2ad-d9f775850860",
   "metadata": {},
   "source": [
    "### Text Generation"
   ]
  },
  {
   "cell_type": "code",
   "execution_count": 11,
   "id": "6309bcbb-70ef-4cee-88a9-1c366266644e",
   "metadata": {},
   "outputs": [],
   "source": [
    "text = \"\"\"The Apple Wireless Earbuds offer excellent sound quality with deep bass and clear highs. They are comfortable for long use, \n",
    "and the battery life lasts a full day. Pairing is easy, and the touch controls are convenient. However, I've noticed occasional brief \n",
    "disconnects with the left earbud. The compact charging case is a plus. Overall, for the price, these earbuds are a great value. Fix the minor connectivity issue, \n",
    "and they'd be perfect. Highly recommend for those seeking budget-friendly, quality earbuds.\"\"\""
   ]
  },
  {
   "cell_type": "code",
   "execution_count": null,
   "id": "faf519d7-5ab3-4b9d-b434-6ed2735a40ea",
   "metadata": {},
   "outputs": [],
   "source": []
  },
  {
   "cell_type": "code",
   "execution_count": 12,
   "id": "3c724146-fb19-4cb3-9a5c-5dfc41189597",
   "metadata": {},
   "outputs": [
    {
     "name": "stderr",
     "output_type": "stream",
     "text": [
      "No model was supplied, defaulted to openai-community/gpt2 and revision 6c0e608 (https://huggingface.co/openai-community/gpt2).\n",
      "Using a pipeline without specifying a model name and revision in production is not recommended.\n",
      "Truncation was not explicitly activated but `max_length` is provided a specific value, please use `truncation=True` to explicitly truncate examples to max length. Defaulting to 'longest_first' truncation strategy. If you encode pairs of sequences (GLUE-style) with the tokenizer you can select this strategy more precisely by providing a specific strategy to `truncation`.\n",
      "Setting `pad_token_id` to `eos_token_id`:50256 for open-end generation.\n"
     ]
    },
    {
     "name": "stdout",
     "output_type": "stream",
     "text": [
      "The Apple Wireless Earbuds offer excellent sound quality with deep bass and clear highs. They are comfortable for long use, \n",
      "and the battery life lasts a full day. Pairing is easy, and the touch controls are convenient. However, I've noticed occasional brief \n",
      "disconnects with the left earbud. The compact charging case is a plus. Overall, for the price, these earbuds are a great value. Fix the minor connectivity issue, \n",
      "and they'd be perfect. Highly recommend for those seeking budget-friendly, quality earbuds.\n",
      "\n",
      "Customer Service Response:\n",
      "Dear Mirza, I am sorry to hear that your order was mixed up with other services (but not the service support they provide. These products are only available for 3 months. We are unable to offer any replacements on your behalf but are looking to get to know you as quickly as possible. We understand your issue. We would be more than happy to get your refund. Thank you in advance for sharing your information regarding your defective purchase.\n",
      "\n",
      "The AirPlay earbud is a great design on paper. But on the real world, with real life application. The design and sound were designed in such a way as to\n"
     ]
    }
   ],
   "source": [
    "generator = pipeline(\"text-generation\")\n",
    "response = \"Dear Mirza, I am sorry to hear that your order was mixed up\"\n",
    "promt = text + \"\\n\\nCustomer Service Response:\\n\" + response\n",
    "outputs = generator(promt, max_length=250)\n",
    "print(outputs[0]['generated_text'])"
   ]
  }
 ],
 "metadata": {
  "kernelspec": {
   "display_name": "Python 3 (ipykernel)",
   "language": "python",
   "name": "python3"
  },
  "language_info": {
   "codemirror_mode": {
    "name": "ipython",
    "version": 3
   },
   "file_extension": ".py",
   "mimetype": "text/x-python",
   "name": "python",
   "nbconvert_exporter": "python",
   "pygments_lexer": "ipython3",
   "version": "3.12.4"
  }
 },
 "nbformat": 4,
 "nbformat_minor": 5
}
